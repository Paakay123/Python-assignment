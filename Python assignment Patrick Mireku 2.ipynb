{
 "cells": [
  {
   "cell_type": "markdown",
   "metadata": {},
   "source": [
    "Patrick Mireku Python assignmnent\n",
    " \n",
    "# Loading the necessary packages/tools necessary to complete this assignment\n",
    "\n"
   ]
  },
  {
   "cell_type": "code",
   "execution_count": 2,
   "metadata": {},
   "outputs": [],
   "source": [
    "from Bio import SeqIO\n",
    "from Bio.Data import CodonTable\n",
    "from Bio.Alphabet import SingleLetterAlphabet\n",
    "import pandas as pd\n",
    "import io\n",
    "import requests"
   ]
  },
  {
   "cell_type": "markdown",
   "metadata": {},
   "source": [
    " # 1. Extracting the sequences\n",
    " \n",
    "1. def command is used to create a function with a specific name chosen for the function.\n",
    "2. sequence_data_dict = {} --> creates an empty dictionary named sequence_data_dict, where the values of the functions inside the loop will be placed.\n",
    "3. SeqIO.parse(fasta_fn, \"fasta\"): --> Creates a loop for each record in the fasta_fn. SeqIO.parse function analyses the file in parts and returns a record object. The file name needs to be specified, along with its format (fasta, in this case).\n",
    "4. description = record.description.split() --> Creates a variable called description; The record.description.split function is spliting the description stored values (identifier, description and sequence) in the record file by a space, adding each of them to a new column, and saving the output in the description variable. \n",
    "5. species_name = description[1] + \" \" + description[2] --> Combines the second and third elements of description (positions 2 and 3, respectively), separating them by a space, and saving them on the variable species_name. \n",
    "6. sequence_data_dict[species_name] = record.seq --> Give values for the variable created before the for loop. The sequence of each species will be pasted after its name.\n",
    "7. return --> End the execution of the function call and \"returns\" the result. The result of this code will to be construct a dictionary with the species name and sequence, where the name is the key and the sequence is the value.\n",
    " source: https://www.python-course.eu/python3_functions.php"
   ]
  },
  {
   "cell_type": "code",
   "execution_count": 4,
   "metadata": {},
   "outputs": [],
   "source": [
    "def get_sequences_from_file(fasta_fn):\n",
    "    sequence_data_dict = {}\n",
    "    for record in SeqIO.parse(fasta_fn, \"fasta\"):\n",
    "        description = record.description.split()\n",
    "        species_name = description[1] + \" \" + description[2]\n",
    "        sequence_data_dict[species_name] = record.seq\n",
    "    return(sequence_data_dict)"
   ]
  },
  {
   "cell_type": "markdown",
   "metadata": {},
   "source": [
    "# 2. String-translate function\n",
    "\n",
    "1. This code is used to translate DNA to aminoacids.\n",
    "2. The function Codon.Table.unambiguous_dna_by_name, from Biopython, contains the unambiguous codons that are translated to specific aminoacids. The [\"Vertebrate Mitochondrial\"] specification says that we want to use the genetic code of the mitochondria of vertebrata.\n",
    "3. An objected with length 3 is created, in order to split the DNA sequence in 3 base pairs (codons), which are translated to a aminoacid.\n",
    "4. An object called codon is created, in which the results of a for loop will be placed. The for loop is using the functions range and length, along with the pre-determined object of length =3, to separada the codons.\n",
    "5. An object called called aa_seq_string is created, in which an additional function will write AAs based on the codons.\n",
    "6. he for loop is asking the program to delete the lost codon, which is a stop codon. The removal of the last codon is done by the \"-1\".\n",
    "7. The result of the codon translation will be placed into the aa_seq_string object, using the mito_table.forward_table and the append functions.\n",
    "8. The data is coerced to a string with the str function and the loop is terminated with the return command. "
   ]
  },
  {
   "cell_type": "code",
   "execution_count": 5,
   "metadata": {},
   "outputs": [],
   "source": [
    "def translate_function(string_nucleotides): \n",
    "    mito_table = CodonTable.unambiguous_dna_by_name[\"Vertebrate Mitochondrial\"]\n",
    "    n =3\n",
    "    codon = [string_nucleotides[i:i+n] for i in range(0,len(string_nucleotides),n)]\n",
    "    aa_seq_string=[]\n",
    "    for w in range(0,len(codon)-1,1):\n",
    "        aa_seq_string.append(mito_table.forward_table[codon[w]]) \n",
    "    return(str(aa_seq_string))"
   ]
  },
  {
   "cell_type": "markdown",
   "metadata": {},
   "source": [
    "# 3. Alternative function\n",
    "\n",
    "1. Biopython has a translate function, which translates DNA to aminoacids. The reference table for this function is NCBI's table, and in case we want to use a different table we need to specify it(e.g.,\"Vertebrate Mitochondrial\"). The argument to_stop=True makes the translation process to stop after a stop codon is found.\n",
    "Information about the translate function can be found at: http://biopython.org/DIST/docs/tutorial/Tutorial.html#htoc25"
   ]
  },
  {
   "cell_type": "code",
   "execution_count": 6,
   "metadata": {},
   "outputs": [],
   "source": [
    "from Bio.Seq import Seq\n",
    "def alt_trans_function(string_nucleotides): \n",
    "    aa_seq_string = string_nucleotides.translate(table=\"Vertebrate Mitochondrial\", to_stop=True)\n",
    "    return(str(aa_seq_string))"
   ]
  },
  {
   "cell_type": "markdown",
   "metadata": {},
   "source": [
    "# 4. Molecular weight of amino acid sequence\n",
    "\n",
    "The package SEqUtils.ProtParam is loaded from Bioptython in oredr to measure milecular weight."
   ]
  },
  {
   "cell_type": "code",
   "execution_count": 7,
   "metadata": {},
   "outputs": [],
   "source": [
    "from Bio.SeqUtils.ProtParam import ProteinAnalysis\n",
    "def compute_molecular_weight(aa_seq):\n",
    "    analysed_seq = ProteinAnalysis(aa_seq)\n",
    "    weight = analysed_seq.molecular_weight()\n",
    "    return(weight)"
   ]
  },
  {
   "cell_type": "markdown",
   "metadata": {},
   "source": [
    "# 5. GC content analysis\n",
    "\n",
    "The functionused here counts the total mumber of G and C in the sequence. This is done by \n",
    "1. Creating an object(str) with the base pairs we do not want to deal with.\n",
    "2. The value for loop of the G and C is retured."
   ]
  },
  {
   "cell_type": "code",
   "execution_count": 8,
   "metadata": {},
   "outputs": [],
   "source": [
    "def GC_content(sequence):\n",
    "    AT = \"A T\"\n",
    "    A = len([GC for GC in sequence if GC not in AT])\n",
    "    g = A/len(sequence)\n",
    "    return(g)\n"
   ]
  },
  {
   "cell_type": "markdown",
   "metadata": {},
   "source": [
    "# 6. Main function\n",
    "\n",
    "The package io is used to read the files and this helps to download the files directly from the internet."
   ]
  },
  {
   "cell_type": "code",
   "execution_count": 9,
   "metadata": {},
   "outputs": [
    {
     "data": {
      "text/html": [
       "<div>\n",
       "<style scoped>\n",
       "    .dataframe tbody tr th:only-of-type {\n",
       "        vertical-align: middle;\n",
       "    }\n",
       "\n",
       "    .dataframe tbody tr th {\n",
       "        vertical-align: top;\n",
       "    }\n",
       "\n",
       "    .dataframe thead th {\n",
       "        text-align: right;\n",
       "    }\n",
       "</style>\n",
       "<table border=\"1\" class=\"dataframe\">\n",
       "  <thead>\n",
       "    <tr style=\"text-align: right;\">\n",
       "      <th></th>\n",
       "      <th>species</th>\n",
       "      <th>mass</th>\n",
       "    </tr>\n",
       "  </thead>\n",
       "  <tbody>\n",
       "    <tr>\n",
       "      <th>0</th>\n",
       "      <td>Ursus spelaeus</td>\n",
       "      <td>550.800</td>\n",
       "    </tr>\n",
       "    <tr>\n",
       "      <th>1</th>\n",
       "      <td>Ursus arctos</td>\n",
       "      <td>203.500</td>\n",
       "    </tr>\n",
       "    <tr>\n",
       "      <th>2</th>\n",
       "      <td>Ursus thibetanus</td>\n",
       "      <td>99.714</td>\n",
       "    </tr>\n",
       "    <tr>\n",
       "      <th>3</th>\n",
       "      <td>Melursus ursinus</td>\n",
       "      <td>100.030</td>\n",
       "    </tr>\n",
       "    <tr>\n",
       "      <th>4</th>\n",
       "      <td>Ursus americanus</td>\n",
       "      <td>110.560</td>\n",
       "    </tr>\n",
       "    <tr>\n",
       "      <th>5</th>\n",
       "      <td>Helarctos malayanus</td>\n",
       "      <td>47.020</td>\n",
       "    </tr>\n",
       "    <tr>\n",
       "      <th>6</th>\n",
       "      <td>Ailuropoda melanoleuca</td>\n",
       "      <td>118.200</td>\n",
       "    </tr>\n",
       "    <tr>\n",
       "      <th>7</th>\n",
       "      <td>Tremarctos ornatus</td>\n",
       "      <td>140.700</td>\n",
       "    </tr>\n",
       "    <tr>\n",
       "      <th>8</th>\n",
       "      <td>Ursus maritimus</td>\n",
       "      <td>425.100</td>\n",
       "    </tr>\n",
       "  </tbody>\n",
       "</table>\n",
       "</div>"
      ],
      "text/plain": [
       "                  species     mass\n",
       "0          Ursus spelaeus  550.800\n",
       "1            Ursus arctos  203.500\n",
       "2        Ursus thibetanus   99.714\n",
       "3        Melursus ursinus  100.030\n",
       "4        Ursus americanus  110.560\n",
       "5     Helarctos malayanus   47.020\n",
       "6  Ailuropoda melanoleuca  118.200\n",
       "7      Tremarctos ornatus  140.700\n",
       "8         Ursus maritimus  425.100"
      ]
     },
     "execution_count": 9,
     "metadata": {},
     "output_type": "execute_result"
    }
   ],
   "source": [
    "url = \"https://raw.githubusercontent.com/Paakay123/BCB546X-Fall2018/master/bears_mass.csv\"\n",
    "file = requests.get(url).content\n",
    "bears_df1 = pd.read_csv(io.StringIO(file.decode('utf-8')))\n",
    "bears_df = bears_df1.copy()\n",
    "bears_df"
   ]
  },
  {
   "cell_type": "markdown",
   "metadata": {},
   "source": [
    "In order to read the file \"bears_cytb.fasta', turllib and uriretrieve is used to read directly from the internet."
   ]
  },
  {
   "cell_type": "code",
   "execution_count": 10,
   "metadata": {},
   "outputs": [
    {
     "data": {
      "text/plain": [
       "('bears_cytb.fasta', <http.client.HTTPMessage at 0x118e5ec18>)"
      ]
     },
     "execution_count": 10,
     "metadata": {},
     "output_type": "execute_result"
    }
   ],
   "source": [
    "import urllib.request\n",
    "urllib.request.urlretrieve('https://raw.githubusercontent.com/EEOB-BioData/BCB546X-Fall2018/master/assignments/Python_Assignment/bears_cytb.fasta', 'bears_cytb.fasta')\n"
   ]
  },
  {
   "cell_type": "markdown",
   "metadata": {},
   "source": [
    "The next code is to read the bears_cytb.fasta and create the directory that as specified in the first function"
   ]
  },
  {
   "cell_type": "code",
   "execution_count": 11,
   "metadata": {},
   "outputs": [],
   "source": [
    "cytb_seqs = get_sequences_from_file(\"bears_cytb.fasta\")\n",
    "species_list = list(bears_df.species)"
   ]
  },
  {
   "cell_type": "markdown",
   "metadata": {},
   "source": [
    "# 7. Creation of two colums with  values NaN\n",
    "The fucntion pandas, concat and dataframes ccould be used to create the two new columns molecular weight(Mole_weight) and GC_content."
   ]
  },
  {
   "cell_type": "code",
   "execution_count": 12,
   "metadata": {},
   "outputs": [
    {
     "name": "stderr",
     "output_type": "stream",
     "text": [
      "/anaconda3/lib/python3.7/site-packages/ipykernel_launcher.py:1: FutureWarning: Sorting because non-concatenation axis is not aligned. A future version\n",
      "of pandas will change to not sort by default.\n",
      "\n",
      "To accept the future behavior, pass 'sort=False'.\n",
      "\n",
      "To retain the current behavior and silence the warning, pass 'sort=True'.\n",
      "\n",
      "  \"\"\"Entry point for launching an IPython kernel.\n"
     ]
    },
    {
     "data": {
      "text/html": [
       "<div>\n",
       "<style scoped>\n",
       "    .dataframe tbody tr th:only-of-type {\n",
       "        vertical-align: middle;\n",
       "    }\n",
       "\n",
       "    .dataframe tbody tr th {\n",
       "        vertical-align: top;\n",
       "    }\n",
       "\n",
       "    .dataframe thead th {\n",
       "        text-align: right;\n",
       "    }\n",
       "</style>\n",
       "<table border=\"1\" class=\"dataframe\">\n",
       "  <thead>\n",
       "    <tr style=\"text-align: right;\">\n",
       "      <th></th>\n",
       "      <th>GC_Content</th>\n",
       "      <th>Mole_weight</th>\n",
       "      <th>mass</th>\n",
       "      <th>species</th>\n",
       "    </tr>\n",
       "  </thead>\n",
       "  <tbody>\n",
       "    <tr>\n",
       "      <th>0</th>\n",
       "      <td>NaN</td>\n",
       "      <td>NaN</td>\n",
       "      <td>550.800</td>\n",
       "      <td>Ursus spelaeus</td>\n",
       "    </tr>\n",
       "    <tr>\n",
       "      <th>1</th>\n",
       "      <td>NaN</td>\n",
       "      <td>NaN</td>\n",
       "      <td>203.500</td>\n",
       "      <td>Ursus arctos</td>\n",
       "    </tr>\n",
       "    <tr>\n",
       "      <th>2</th>\n",
       "      <td>NaN</td>\n",
       "      <td>NaN</td>\n",
       "      <td>99.714</td>\n",
       "      <td>Ursus thibetanus</td>\n",
       "    </tr>\n",
       "    <tr>\n",
       "      <th>3</th>\n",
       "      <td>NaN</td>\n",
       "      <td>NaN</td>\n",
       "      <td>100.030</td>\n",
       "      <td>Melursus ursinus</td>\n",
       "    </tr>\n",
       "    <tr>\n",
       "      <th>4</th>\n",
       "      <td>NaN</td>\n",
       "      <td>NaN</td>\n",
       "      <td>110.560</td>\n",
       "      <td>Ursus americanus</td>\n",
       "    </tr>\n",
       "    <tr>\n",
       "      <th>5</th>\n",
       "      <td>NaN</td>\n",
       "      <td>NaN</td>\n",
       "      <td>47.020</td>\n",
       "      <td>Helarctos malayanus</td>\n",
       "    </tr>\n",
       "    <tr>\n",
       "      <th>6</th>\n",
       "      <td>NaN</td>\n",
       "      <td>NaN</td>\n",
       "      <td>118.200</td>\n",
       "      <td>Ailuropoda melanoleuca</td>\n",
       "    </tr>\n",
       "    <tr>\n",
       "      <th>7</th>\n",
       "      <td>NaN</td>\n",
       "      <td>NaN</td>\n",
       "      <td>140.700</td>\n",
       "      <td>Tremarctos ornatus</td>\n",
       "    </tr>\n",
       "    <tr>\n",
       "      <th>8</th>\n",
       "      <td>NaN</td>\n",
       "      <td>NaN</td>\n",
       "      <td>425.100</td>\n",
       "      <td>Ursus maritimus</td>\n",
       "    </tr>\n",
       "  </tbody>\n",
       "</table>\n",
       "</div>"
      ],
      "text/plain": [
       "  GC_Content Mole_weight     mass                 species\n",
       "0        NaN         NaN  550.800          Ursus spelaeus\n",
       "1        NaN         NaN  203.500            Ursus arctos\n",
       "2        NaN         NaN   99.714        Ursus thibetanus\n",
       "3        NaN         NaN  100.030        Melursus ursinus\n",
       "4        NaN         NaN  110.560        Ursus americanus\n",
       "5        NaN         NaN   47.020     Helarctos malayanus\n",
       "6        NaN         NaN  118.200  Ailuropoda melanoleuca\n",
       "7        NaN         NaN  140.700      Tremarctos ornatus\n",
       "8        NaN         NaN  425.100         Ursus maritimus"
      ]
     },
     "execution_count": 12,
     "metadata": {},
     "output_type": "execute_result"
    }
   ],
   "source": [
    "pd.concat([bears_df, pd.DataFrame(columns = [ 'Mole_weight', 'GC_Content'])]) "
   ]
  },
  {
   "cell_type": "markdown",
   "metadata": {},
   "source": [
    "# 8. Molecular weight and GC content\n",
    "\n",
    "This loop creates the columns with their respevtive values."
   ]
  },
  {
   "cell_type": "code",
   "execution_count": 14,
   "metadata": {},
   "outputs": [
    {
     "data": {
      "text/html": [
       "<div>\n",
       "<style scoped>\n",
       "    .dataframe tbody tr th:only-of-type {\n",
       "        vertical-align: middle;\n",
       "    }\n",
       "\n",
       "    .dataframe tbody tr th {\n",
       "        vertical-align: top;\n",
       "    }\n",
       "\n",
       "    .dataframe thead th {\n",
       "        text-align: right;\n",
       "    }\n",
       "</style>\n",
       "<table border=\"1\" class=\"dataframe\">\n",
       "  <thead>\n",
       "    <tr style=\"text-align: right;\">\n",
       "      <th></th>\n",
       "      <th>species</th>\n",
       "      <th>mass</th>\n",
       "      <th>Mole_Weight</th>\n",
       "      <th>GC_Content</th>\n",
       "    </tr>\n",
       "  </thead>\n",
       "  <tbody>\n",
       "    <tr>\n",
       "      <th>0</th>\n",
       "      <td>Ursus spelaeus</td>\n",
       "      <td>550.800</td>\n",
       "      <td>42458.7992</td>\n",
       "      <td>0.437719</td>\n",
       "    </tr>\n",
       "    <tr>\n",
       "      <th>1</th>\n",
       "      <td>Ursus arctos</td>\n",
       "      <td>203.500</td>\n",
       "      <td>42414.7435</td>\n",
       "      <td>0.437719</td>\n",
       "    </tr>\n",
       "    <tr>\n",
       "      <th>2</th>\n",
       "      <td>Ursus thibetanus</td>\n",
       "      <td>99.714</td>\n",
       "      <td>42306.6735</td>\n",
       "      <td>0.456140</td>\n",
       "    </tr>\n",
       "    <tr>\n",
       "      <th>3</th>\n",
       "      <td>Melursus ursinus</td>\n",
       "      <td>100.030</td>\n",
       "      <td>42551.9900</td>\n",
       "      <td>0.451754</td>\n",
       "    </tr>\n",
       "    <tr>\n",
       "      <th>4</th>\n",
       "      <td>Ursus americanus</td>\n",
       "      <td>110.560</td>\n",
       "      <td>42427.7439</td>\n",
       "      <td>0.439474</td>\n",
       "    </tr>\n",
       "    <tr>\n",
       "      <th>5</th>\n",
       "      <td>Helarctos malayanus</td>\n",
       "      <td>47.020</td>\n",
       "      <td>42560.8910</td>\n",
       "      <td>0.442982</td>\n",
       "    </tr>\n",
       "    <tr>\n",
       "      <th>6</th>\n",
       "      <td>Ailuropoda melanoleuca</td>\n",
       "      <td>118.200</td>\n",
       "      <td>42702.1845</td>\n",
       "      <td>0.407895</td>\n",
       "    </tr>\n",
       "    <tr>\n",
       "      <th>7</th>\n",
       "      <td>Tremarctos ornatus</td>\n",
       "      <td>140.700</td>\n",
       "      <td>42384.8266</td>\n",
       "      <td>0.443860</td>\n",
       "    </tr>\n",
       "    <tr>\n",
       "      <th>8</th>\n",
       "      <td>Ursus maritimus</td>\n",
       "      <td>425.100</td>\n",
       "      <td>42454.7873</td>\n",
       "      <td>0.442982</td>\n",
       "    </tr>\n",
       "  </tbody>\n",
       "</table>\n",
       "</div>"
      ],
      "text/plain": [
       "                  species     mass  Mole_Weight  GC_Content\n",
       "0          Ursus spelaeus  550.800   42458.7992    0.437719\n",
       "1            Ursus arctos  203.500   42414.7435    0.437719\n",
       "2        Ursus thibetanus   99.714   42306.6735    0.456140\n",
       "3        Melursus ursinus  100.030   42551.9900    0.451754\n",
       "4        Ursus americanus  110.560   42427.7439    0.439474\n",
       "5     Helarctos malayanus   47.020   42560.8910    0.442982\n",
       "6  Ailuropoda melanoleuca  118.200   42702.1845    0.407895\n",
       "7      Tremarctos ornatus  140.700   42384.8266    0.443860\n",
       "8         Ursus maritimus  425.100   42454.7873    0.442982"
      ]
     },
     "execution_count": 14,
     "metadata": {},
     "output_type": "execute_result"
    }
   ],
   "source": [
    "GC_Con = [] # This is to store the iterative values created for the GC_content\n",
    "Mol_Weight = [] # This is to store the iterative values created for the molecular weight\n",
    "\n",
    "for key, value in cytb_seqs.items():  #This is to recall the dictionary per key and value\n",
    "    if key in cytb_seqs: # To specify that the for loop is per each key.\n",
    "        transl = alt_trans_function(cytb_seqs[key]) #Translation of the sequences in aminoacids\n",
    "        weight = compute_molecular_weight(transl) # Computation of the molecular weight\n",
    "        Mol_Weight.append(weight) # Creation of a list of the values of molecuar weight per key\n",
    "        \n",
    "        GC = GC_content(cytb_seqs[key]) # Content of GC per key\n",
    "        GC_Con.append(GC) # Creation of a list of amount of GC per key\n",
    "\n",
    "bears_df['Mole_Weight'] = Mol_Weight # Creates a new column with thevalues created in the for loop\n",
    "bears_df['GC_Content'] = GC_Con # Creates a new column with thevalues created in the for loop\n",
    "bears_df"
   ]
  },
  {
   "cell_type": "markdown",
   "metadata": {},
   "source": [
    "# 9.Plotting mass vs species name\n",
    "\n",
    "The packages would have to be imported in order to plot the graphs"
   ]
  },
  {
   "cell_type": "code",
   "execution_count": 15,
   "metadata": {},
   "outputs": [],
   "source": [
    "import seaborn as sns\n",
    "import numpy as np"
   ]
  },
  {
   "cell_type": "code",
   "execution_count": 16,
   "metadata": {},
   "outputs": [],
   "source": [
    "%matplotlib inline"
   ]
  },
  {
   "cell_type": "markdown",
   "metadata": {},
   "source": [
    "The barplot function can be used to create the graph"
   ]
  },
  {
   "cell_type": "code",
   "execution_count": 22,
   "metadata": {},
   "outputs": [
    {
     "data": {
      "text/plain": [
       "[Text(0,0,'Ursus spelaeus'),\n",
       " Text(0,0,'Ursus arctos'),\n",
       " Text(0,0,'Ursus thibetanus'),\n",
       " Text(0,0,'Melursus ursinus'),\n",
       " Text(0,0,'Ursus americanus'),\n",
       " Text(0,0,'Helarctos malayanus'),\n",
       " Text(0,0,'Ailuropoda melanoleuca'),\n",
       " Text(0,0,'Tremarctos ornatus'),\n",
       " Text(0,0,'Ursus maritimus')]"
      ]
     },
     "execution_count": 22,
     "metadata": {},
     "output_type": "execute_result"
    },
    {
     "data": {
      "image/png": "[encoded data removed]",
      "text/plain": [
       "<Figure size 432x288 with 1 Axes>"
      ]
     },
     "metadata": {
      "needs_background": "light"
     },
     "output_type": "display_data"
    }
   ],
   "source": [
    "my_fig = sns.barplot(x = 'species', y= 'mass', hue_order='species', color = 'yellow', data = bears_df)\n",
    "my_fig.set_xticklabels(labels = bears_df.species, rotation=30, horizontalalignment='right')"
   ]
  },
  {
   "cell_type": "markdown",
   "metadata": {},
   "source": [
    "Q1. What is the largest bear species? \n",
    "The largest bear species is Ursus spelaeus from the bar graph\n"
   ]
  },
  {
   "cell_type": "markdown",
   "metadata": {},
   "source": [
    "# 10. Plot molecular weight Vs GC content\n"
   ]
  },
  {
   "cell_type": "code",
   "execution_count": 26,
   "metadata": {},
   "outputs": [
    {
     "name": "stderr",
     "output_type": "stream",
     "text": [
      "/anaconda3/lib/python3.7/site-packages/seaborn/regression.py:546: UserWarning: The `size` paramter has been renamed to `height`; please update your code.\n",
      "  warnings.warn(msg, UserWarning)\n"
     ]
    },
    {
     "data": {
      "text/plain": [
       "<seaborn.axisgrid.FacetGrid at 0x1a1b2086d8>"
      ]
     },
     "execution_count": 26,
     "metadata": {},
     "output_type": "execute_result"
    },
    {
     "data": {
      "image/png": "[encoded data removed]",
      "text/plain": [
       "<Figure size 1021.12x864 with 1 Axes>"
      ]
     },
     "metadata": {
      "needs_background": "light"
     },
     "output_type": "display_data"
    }
   ],
   "source": [
    "my_fig1 = sns.lmplot(\"GC_Content\", \"Mole_Weight\", data= bears_df, fit_reg=False, size=12,hue = 'species', markers='D')\n",
    "my_fig1.set_axis_labels('GC Content (bp)', 'Molecular Weight (M)')"
   ]
  },
  {
   "cell_type": "markdown",
   "metadata": {},
   "source": [
    "# New Data frame\n",
    "The function \"to_csv\" is used to export the data frame as csv"
   ]
  },
  {
   "cell_type": "code",
   "execution_count": 25,
   "metadata": {},
   "outputs": [],
   "source": [
    "bears_df.to_csv('bears_mass_cytb.csv', sep=',',index=False, encoding='utf-8', )"
   ]
  },
  {
   "cell_type": "markdown",
   "metadata": {},
   "source": [
    "# Bonus\n",
    "\n",
    "1. What else can we do with this dataset in Python?\n",
    "2. Add functions or anything that might be interesting and fun. (optional)\n",
    "\n",
    "Since not all amino acids are essential, the number of essential and non-essential amino acids could be counted in each species by using the def essential function."
   ]
  },
  {
   "cell_type": "code",
   "execution_count": 28,
   "metadata": {},
   "outputs": [],
   "source": [
    "def essential(sequence):\n",
    "    Non_essential = \" P A T R I C K\"\n",
    "    return len([essen for essen in sequence if essen not in Non_essential])"
   ]
  },
  {
   "cell_type": "markdown",
   "metadata": {},
   "source": [
    " Essential amino acid could then e counted per species"
   ]
  },
  {
   "cell_type": "code",
   "execution_count": 29,
   "metadata": {},
   "outputs": [
    {
     "data": {
      "text/html": [
       "<div>\n",
       "<style scoped>\n",
       "    .dataframe tbody tr th:only-of-type {\n",
       "        vertical-align: middle;\n",
       "    }\n",
       "\n",
       "    .dataframe tbody tr th {\n",
       "        vertical-align: top;\n",
       "    }\n",
       "\n",
       "    .dataframe thead th {\n",
       "        text-align: right;\n",
       "    }\n",
       "</style>\n",
       "<table border=\"1\" class=\"dataframe\">\n",
       "  <thead>\n",
       "    <tr style=\"text-align: right;\">\n",
       "      <th></th>\n",
       "      <th>species</th>\n",
       "      <th>mass</th>\n",
       "      <th>Mole_Weight</th>\n",
       "      <th>GC_Content</th>\n",
       "      <th>Total_aa</th>\n",
       "      <th>Essential</th>\n",
       "      <th>Non_Essential</th>\n",
       "      <th>%_Essential</th>\n",
       "    </tr>\n",
       "  </thead>\n",
       "  <tbody>\n",
       "    <tr>\n",
       "      <th>0</th>\n",
       "      <td>Ursus spelaeus</td>\n",
       "      <td>550.800</td>\n",
       "      <td>42458.7992</td>\n",
       "      <td>0.437719</td>\n",
       "      <td>379</td>\n",
       "      <td>240</td>\n",
       "      <td>139</td>\n",
       "      <td>0.633245</td>\n",
       "    </tr>\n",
       "    <tr>\n",
       "      <th>1</th>\n",
       "      <td>Ursus arctos</td>\n",
       "      <td>203.500</td>\n",
       "      <td>42414.7435</td>\n",
       "      <td>0.437719</td>\n",
       "      <td>379</td>\n",
       "      <td>238</td>\n",
       "      <td>141</td>\n",
       "      <td>0.627968</td>\n",
       "    </tr>\n",
       "    <tr>\n",
       "      <th>2</th>\n",
       "      <td>Ursus thibetanus</td>\n",
       "      <td>99.714</td>\n",
       "      <td>42306.6735</td>\n",
       "      <td>0.456140</td>\n",
       "      <td>379</td>\n",
       "      <td>240</td>\n",
       "      <td>139</td>\n",
       "      <td>0.633245</td>\n",
       "    </tr>\n",
       "    <tr>\n",
       "      <th>3</th>\n",
       "      <td>Melursus ursinus</td>\n",
       "      <td>100.030</td>\n",
       "      <td>42551.9900</td>\n",
       "      <td>0.451754</td>\n",
       "      <td>379</td>\n",
       "      <td>243</td>\n",
       "      <td>136</td>\n",
       "      <td>0.641161</td>\n",
       "    </tr>\n",
       "    <tr>\n",
       "      <th>4</th>\n",
       "      <td>Ursus americanus</td>\n",
       "      <td>110.560</td>\n",
       "      <td>42427.7439</td>\n",
       "      <td>0.439474</td>\n",
       "      <td>379</td>\n",
       "      <td>240</td>\n",
       "      <td>139</td>\n",
       "      <td>0.633245</td>\n",
       "    </tr>\n",
       "    <tr>\n",
       "      <th>5</th>\n",
       "      <td>Helarctos malayanus</td>\n",
       "      <td>47.020</td>\n",
       "      <td>42560.8910</td>\n",
       "      <td>0.442982</td>\n",
       "      <td>379</td>\n",
       "      <td>242</td>\n",
       "      <td>137</td>\n",
       "      <td>0.638522</td>\n",
       "    </tr>\n",
       "    <tr>\n",
       "      <th>6</th>\n",
       "      <td>Ailuropoda melanoleuca</td>\n",
       "      <td>118.200</td>\n",
       "      <td>42702.1845</td>\n",
       "      <td>0.407895</td>\n",
       "      <td>379</td>\n",
       "      <td>242</td>\n",
       "      <td>137</td>\n",
       "      <td>0.638522</td>\n",
       "    </tr>\n",
       "    <tr>\n",
       "      <th>7</th>\n",
       "      <td>Tremarctos ornatus</td>\n",
       "      <td>140.700</td>\n",
       "      <td>42384.8266</td>\n",
       "      <td>0.443860</td>\n",
       "      <td>379</td>\n",
       "      <td>245</td>\n",
       "      <td>134</td>\n",
       "      <td>0.646438</td>\n",
       "    </tr>\n",
       "    <tr>\n",
       "      <th>8</th>\n",
       "      <td>Ursus maritimus</td>\n",
       "      <td>425.100</td>\n",
       "      <td>42454.7873</td>\n",
       "      <td>0.442982</td>\n",
       "      <td>379</td>\n",
       "      <td>242</td>\n",
       "      <td>137</td>\n",
       "      <td>0.638522</td>\n",
       "    </tr>\n",
       "  </tbody>\n",
       "</table>\n",
       "</div>"
      ],
      "text/plain": [
       "                  species     mass  Mole_Weight  GC_Content  Total_aa  \\\n",
       "0          Ursus spelaeus  550.800   42458.7992    0.437719       379   \n",
       "1            Ursus arctos  203.500   42414.7435    0.437719       379   \n",
       "2        Ursus thibetanus   99.714   42306.6735    0.456140       379   \n",
       "3        Melursus ursinus  100.030   42551.9900    0.451754       379   \n",
       "4        Ursus americanus  110.560   42427.7439    0.439474       379   \n",
       "5     Helarctos malayanus   47.020   42560.8910    0.442982       379   \n",
       "6  Ailuropoda melanoleuca  118.200   42702.1845    0.407895       379   \n",
       "7      Tremarctos ornatus  140.700   42384.8266    0.443860       379   \n",
       "8         Ursus maritimus  425.100   42454.7873    0.442982       379   \n",
       "\n",
       "   Essential  Non_Essential  %_Essential  \n",
       "0        240            139     0.633245  \n",
       "1        238            141     0.627968  \n",
       "2        240            139     0.633245  \n",
       "3        243            136     0.641161  \n",
       "4        240            139     0.633245  \n",
       "5        242            137     0.638522  \n",
       "6        242            137     0.638522  \n",
       "7        245            134     0.646438  \n",
       "8        242            137     0.638522  "
      ]
     },
     "execution_count": 29,
     "metadata": {},
     "output_type": "execute_result"
    }
   ],
   "source": [
    "aa_essential = []\n",
    "total_aa = []\n",
    "for key, value in cytb_seqs.items():  #This is to recall the dictionary per key and value\n",
    "    if key in cytb_seqs: # To specify that the for loop is per each key.\n",
    "        transl = alt_trans_function(cytb_seqs[key]) #Translation of the sequences in aminoacids\n",
    "        count = essential(transl)\n",
    "        aa_essential.append(count)\n",
    "        total_aa.append(len(transl))\n",
    "\n",
    "bears_df['Total_aa'] = total_aa # Creates a new column with thevalues created in the for loop\n",
    "bears_df['Essential'] = aa_essential # Creates a new column with thevalues created in the for loop\n",
    "bears_df['Non_Essential'] = bears_df['Total_aa'] - bears_df['Essential']\n",
    "bears_df['%_Essential'] = bears_df['Essential']/bears_df['Total_aa']\n",
    "bears_df"
   ]
  },
  {
   "cell_type": "code",
   "execution_count": null,
   "metadata": {},
   "outputs": [],
   "source": []
  }
 ],
 "metadata": {
  "kernelspec": {
   "display_name": "Python 3",
   "language": "python",
   "name": "python3"
  },
  "language_info": {
   "codemirror_mode": {
    "name": "ipython",
    "version": 3
   },
   "file_extension": ".py",
   "mimetype": "text/x-python",
   "name": "python",
   "nbconvert_exporter": "python",
   "pygments_lexer": "ipython3",
   "version": "3.7.0"
  }
 },
 "nbformat": 4,
 "nbformat_minor": 2
}
